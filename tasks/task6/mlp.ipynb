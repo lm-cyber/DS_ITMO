{
 "cells": [
  {
   "cell_type": "code",
   "execution_count": 2,
   "id": "249c5322-ddcf-4d8d-bcd9-e2f922962cba",
   "metadata": {},
   "outputs": [],
   "source": [
    "from ucimlrepo import fetch_ucirepo \n",
    "  \n",
    "mushroom = fetch_ucirepo(id=73) \n",
    "X = mushroom.data.features \n",
    "y = mushroom.data.targets \n"
   ]
  },
  {
   "cell_type": "code",
   "execution_count": 6,
   "id": "fc80c63c-bd57-4632-9b68-c1e2dabc36e5",
   "metadata": {},
   "outputs": [],
   "source": [
    "import pandas as pd\n",
    "import numpy as np\n",
    "import matplotlib.pyplot as plt"
   ]
  },
  {
   "cell_type": "code",
   "execution_count": 9,
   "id": "116f8350-77a9-41a5-966b-42f837f98e80",
   "metadata": {},
   "outputs": [],
   "source": [
    "df = X.join(y)"
   ]
  },
  {
   "cell_type": "code",
   "execution_count": 8,
   "id": "88f587de-fc99-42f2-b85a-9892e1848d75",
   "metadata": {},
   "outputs": [],
   "source": [
    "target = 'poisonous'"
   ]
  },
  {
   "cell_type": "code",
   "execution_count": 11,
   "id": "cb70f239-7356-4bd8-a0f0-f9216af42102",
   "metadata": {},
   "outputs": [
    {
     "name": "stdout",
     "output_type": "stream",
     "text": [
      "<class 'pandas.core.frame.DataFrame'>\n",
      "RangeIndex: 8124 entries, 0 to 8123\n",
      "Data columns (total 23 columns):\n",
      " #   Column                    Non-Null Count  Dtype \n",
      "---  ------                    --------------  ----- \n",
      " 0   cap-shape                 8124 non-null   object\n",
      " 1   cap-surface               8124 non-null   object\n",
      " 2   cap-color                 8124 non-null   object\n",
      " 3   bruises                   8124 non-null   object\n",
      " 4   odor                      8124 non-null   object\n",
      " 5   gill-attachment           8124 non-null   object\n",
      " 6   gill-spacing              8124 non-null   object\n",
      " 7   gill-size                 8124 non-null   object\n",
      " 8   gill-color                8124 non-null   object\n",
      " 9   stalk-shape               8124 non-null   object\n",
      " 10  stalk-root                5644 non-null   object\n",
      " 11  stalk-surface-above-ring  8124 non-null   object\n",
      " 12  stalk-surface-below-ring  8124 non-null   object\n",
      " 13  stalk-color-above-ring    8124 non-null   object\n",
      " 14  stalk-color-below-ring    8124 non-null   object\n",
      " 15  veil-type                 8124 non-null   object\n",
      " 16  veil-color                8124 non-null   object\n",
      " 17  ring-number               8124 non-null   object\n",
      " 18  ring-type                 8124 non-null   object\n",
      " 19  spore-print-color         8124 non-null   object\n",
      " 20  population                8124 non-null   object\n",
      " 21  habitat                   8124 non-null   object\n",
      " 22  poisonous                 8124 non-null   object\n",
      "dtypes: object(23)\n",
      "memory usage: 1.4+ MB\n"
     ]
    }
   ],
   "source": [
    "df.info()"
   ]
  },
  {
   "cell_type": "code",
   "execution_count": 20,
   "id": "f9700bb4-f472-499e-894f-989423649a3e",
   "metadata": {},
   "outputs": [
    {
     "name": "stdout",
     "output_type": "stream",
     "text": [
      "cap-shape 6 3656 4\n",
      "cap-surface 4 3244 4\n",
      "cap-color 10 2284 16\n",
      "bruises 2 4748 3376\n",
      "odor 9 3528 36\n",
      "gill-attachment 2 7914 210\n",
      "gill-spacing 2 6812 1312\n",
      "gill-size 2 5612 2512\n",
      "gill-color 12 1728 24\n",
      "stalk-shape 2 4608 3516\n",
      "stalk-root 4 3776 192\n",
      "stalk-surface-above-ring 4 5176 24\n",
      "stalk-surface-below-ring 4 4936 284\n",
      "stalk-color-above-ring 9 4464 8\n",
      "stalk-color-below-ring 9 4384 24\n",
      "veil-type 1 8124 8124\n",
      "veil-color 4 7924 8\n",
      "ring-number 3 7488 36\n",
      "ring-type 5 3968 36\n",
      "spore-print-color 9 2388 48\n",
      "population 6 4040 340\n",
      "habitat 7 3148 192\n",
      "poisonous 2 4208 3916\n"
     ]
    }
   ],
   "source": [
    "one_hot=0\n",
    "for i in df:\n",
    "    part_value = df[i].value_counts()#.reset_index()\n",
    "    one_hot+=len(part_value)\n",
    "    print(i, len(part_value),part_value.max(),part_value.min())"
   ]
  },
  {
   "cell_type": "code",
   "execution_count": 22,
   "id": "5d9d7df4-1387-4200-a11e-264890f4b668",
   "metadata": {},
   "outputs": [
    {
     "data": {
      "text/plain": [
       "'количиство категорий 116'"
      ]
     },
     "execution_count": 22,
     "metadata": {},
     "output_type": "execute_result"
    }
   ],
   "source": [
    "f\"количиство категорий {one_hot-2}\""
   ]
  },
  {
   "cell_type": "markdown",
   "id": "62e341dd-6479-46e3-a7b2-5a28c1a7000c",
   "metadata": {},
   "source": [
    "честно хочется написать эмбединги, но с другой стороны лень"
   ]
  },
  {
   "cell_type": "code",
   "execution_count": 28,
   "id": "096a1a6d-2d45-4d15-b1c1-c73395938d12",
   "metadata": {},
   "outputs": [],
   "source": [
    "cols = list(df.columns)\n",
    "cols.remove('poisonous')"
   ]
  },
  {
   "cell_type": "code",
   "execution_count": 47,
   "id": "9961eaf0-3ade-43a6-9f9a-c396182b9119",
   "metadata": {},
   "outputs": [],
   "source": [
    "df_part = df[['poisonous']]\n",
    "for i in cols:\n",
    "    df_part = df_part.join(pd.get_dummies(df[i],prefix =i).astype(int))"
   ]
  },
  {
   "cell_type": "code",
   "execution_count": 48,
   "id": "4e1205ed-4ba4-456c-8ff0-7c4e342c0235",
   "metadata": {},
   "outputs": [
    {
     "data": {
      "text/plain": [
       "117"
      ]
     },
     "execution_count": 48,
     "metadata": {},
     "output_type": "execute_result"
    }
   ],
   "source": [
    "len(df_part.columns)"
   ]
  },
  {
   "cell_type": "code",
   "execution_count": 50,
   "id": "824a4367-509c-4297-ae47-ea9cae7b26f9",
   "metadata": {},
   "outputs": [],
   "source": [
    "df_part[target] = (df[target] == 'p').astype(int)"
   ]
  },
  {
   "cell_type": "code",
   "execution_count": 51,
   "id": "51bded44-d182-4d78-9257-a9335cb87969",
   "metadata": {},
   "outputs": [
    {
     "data": {
      "text/html": [
       "<div>\n",
       "<style scoped>\n",
       "    .dataframe tbody tr th:only-of-type {\n",
       "        vertical-align: middle;\n",
       "    }\n",
       "\n",
       "    .dataframe tbody tr th {\n",
       "        vertical-align: top;\n",
       "    }\n",
       "\n",
       "    .dataframe thead th {\n",
       "        text-align: right;\n",
       "    }\n",
       "</style>\n",
       "<table border=\"1\" class=\"dataframe\">\n",
       "  <thead>\n",
       "    <tr style=\"text-align: right;\">\n",
       "      <th></th>\n",
       "      <th>poisonous</th>\n",
       "      <th>cap-shape_b</th>\n",
       "      <th>cap-shape_c</th>\n",
       "      <th>cap-shape_f</th>\n",
       "      <th>cap-shape_k</th>\n",
       "      <th>cap-shape_s</th>\n",
       "      <th>cap-shape_x</th>\n",
       "      <th>cap-surface_f</th>\n",
       "      <th>cap-surface_g</th>\n",
       "      <th>cap-surface_s</th>\n",
       "      <th>...</th>\n",
       "      <th>population_s</th>\n",
       "      <th>population_v</th>\n",
       "      <th>population_y</th>\n",
       "      <th>habitat_d</th>\n",
       "      <th>habitat_g</th>\n",
       "      <th>habitat_l</th>\n",
       "      <th>habitat_m</th>\n",
       "      <th>habitat_p</th>\n",
       "      <th>habitat_u</th>\n",
       "      <th>habitat_w</th>\n",
       "    </tr>\n",
       "  </thead>\n",
       "  <tbody>\n",
       "    <tr>\n",
       "      <th>0</th>\n",
       "      <td>1</td>\n",
       "      <td>0</td>\n",
       "      <td>0</td>\n",
       "      <td>0</td>\n",
       "      <td>0</td>\n",
       "      <td>0</td>\n",
       "      <td>1</td>\n",
       "      <td>0</td>\n",
       "      <td>0</td>\n",
       "      <td>1</td>\n",
       "      <td>...</td>\n",
       "      <td>1</td>\n",
       "      <td>0</td>\n",
       "      <td>0</td>\n",
       "      <td>0</td>\n",
       "      <td>0</td>\n",
       "      <td>0</td>\n",
       "      <td>0</td>\n",
       "      <td>0</td>\n",
       "      <td>1</td>\n",
       "      <td>0</td>\n",
       "    </tr>\n",
       "    <tr>\n",
       "      <th>1</th>\n",
       "      <td>0</td>\n",
       "      <td>0</td>\n",
       "      <td>0</td>\n",
       "      <td>0</td>\n",
       "      <td>0</td>\n",
       "      <td>0</td>\n",
       "      <td>1</td>\n",
       "      <td>0</td>\n",
       "      <td>0</td>\n",
       "      <td>1</td>\n",
       "      <td>...</td>\n",
       "      <td>0</td>\n",
       "      <td>0</td>\n",
       "      <td>0</td>\n",
       "      <td>0</td>\n",
       "      <td>1</td>\n",
       "      <td>0</td>\n",
       "      <td>0</td>\n",
       "      <td>0</td>\n",
       "      <td>0</td>\n",
       "      <td>0</td>\n",
       "    </tr>\n",
       "    <tr>\n",
       "      <th>2</th>\n",
       "      <td>0</td>\n",
       "      <td>1</td>\n",
       "      <td>0</td>\n",
       "      <td>0</td>\n",
       "      <td>0</td>\n",
       "      <td>0</td>\n",
       "      <td>0</td>\n",
       "      <td>0</td>\n",
       "      <td>0</td>\n",
       "      <td>1</td>\n",
       "      <td>...</td>\n",
       "      <td>0</td>\n",
       "      <td>0</td>\n",
       "      <td>0</td>\n",
       "      <td>0</td>\n",
       "      <td>0</td>\n",
       "      <td>0</td>\n",
       "      <td>1</td>\n",
       "      <td>0</td>\n",
       "      <td>0</td>\n",
       "      <td>0</td>\n",
       "    </tr>\n",
       "    <tr>\n",
       "      <th>3</th>\n",
       "      <td>1</td>\n",
       "      <td>0</td>\n",
       "      <td>0</td>\n",
       "      <td>0</td>\n",
       "      <td>0</td>\n",
       "      <td>0</td>\n",
       "      <td>1</td>\n",
       "      <td>0</td>\n",
       "      <td>0</td>\n",
       "      <td>0</td>\n",
       "      <td>...</td>\n",
       "      <td>1</td>\n",
       "      <td>0</td>\n",
       "      <td>0</td>\n",
       "      <td>0</td>\n",
       "      <td>0</td>\n",
       "      <td>0</td>\n",
       "      <td>0</td>\n",
       "      <td>0</td>\n",
       "      <td>1</td>\n",
       "      <td>0</td>\n",
       "    </tr>\n",
       "    <tr>\n",
       "      <th>4</th>\n",
       "      <td>0</td>\n",
       "      <td>0</td>\n",
       "      <td>0</td>\n",
       "      <td>0</td>\n",
       "      <td>0</td>\n",
       "      <td>0</td>\n",
       "      <td>1</td>\n",
       "      <td>0</td>\n",
       "      <td>0</td>\n",
       "      <td>1</td>\n",
       "      <td>...</td>\n",
       "      <td>0</td>\n",
       "      <td>0</td>\n",
       "      <td>0</td>\n",
       "      <td>0</td>\n",
       "      <td>1</td>\n",
       "      <td>0</td>\n",
       "      <td>0</td>\n",
       "      <td>0</td>\n",
       "      <td>0</td>\n",
       "      <td>0</td>\n",
       "    </tr>\n",
       "    <tr>\n",
       "      <th>...</th>\n",
       "      <td>...</td>\n",
       "      <td>...</td>\n",
       "      <td>...</td>\n",
       "      <td>...</td>\n",
       "      <td>...</td>\n",
       "      <td>...</td>\n",
       "      <td>...</td>\n",
       "      <td>...</td>\n",
       "      <td>...</td>\n",
       "      <td>...</td>\n",
       "      <td>...</td>\n",
       "      <td>...</td>\n",
       "      <td>...</td>\n",
       "      <td>...</td>\n",
       "      <td>...</td>\n",
       "      <td>...</td>\n",
       "      <td>...</td>\n",
       "      <td>...</td>\n",
       "      <td>...</td>\n",
       "      <td>...</td>\n",
       "      <td>...</td>\n",
       "    </tr>\n",
       "    <tr>\n",
       "      <th>8119</th>\n",
       "      <td>0</td>\n",
       "      <td>0</td>\n",
       "      <td>0</td>\n",
       "      <td>0</td>\n",
       "      <td>1</td>\n",
       "      <td>0</td>\n",
       "      <td>0</td>\n",
       "      <td>0</td>\n",
       "      <td>0</td>\n",
       "      <td>1</td>\n",
       "      <td>...</td>\n",
       "      <td>0</td>\n",
       "      <td>0</td>\n",
       "      <td>0</td>\n",
       "      <td>0</td>\n",
       "      <td>0</td>\n",
       "      <td>1</td>\n",
       "      <td>0</td>\n",
       "      <td>0</td>\n",
       "      <td>0</td>\n",
       "      <td>0</td>\n",
       "    </tr>\n",
       "    <tr>\n",
       "      <th>8120</th>\n",
       "      <td>0</td>\n",
       "      <td>0</td>\n",
       "      <td>0</td>\n",
       "      <td>0</td>\n",
       "      <td>0</td>\n",
       "      <td>0</td>\n",
       "      <td>1</td>\n",
       "      <td>0</td>\n",
       "      <td>0</td>\n",
       "      <td>1</td>\n",
       "      <td>...</td>\n",
       "      <td>0</td>\n",
       "      <td>1</td>\n",
       "      <td>0</td>\n",
       "      <td>0</td>\n",
       "      <td>0</td>\n",
       "      <td>1</td>\n",
       "      <td>0</td>\n",
       "      <td>0</td>\n",
       "      <td>0</td>\n",
       "      <td>0</td>\n",
       "    </tr>\n",
       "    <tr>\n",
       "      <th>8121</th>\n",
       "      <td>0</td>\n",
       "      <td>0</td>\n",
       "      <td>0</td>\n",
       "      <td>1</td>\n",
       "      <td>0</td>\n",
       "      <td>0</td>\n",
       "      <td>0</td>\n",
       "      <td>0</td>\n",
       "      <td>0</td>\n",
       "      <td>1</td>\n",
       "      <td>...</td>\n",
       "      <td>0</td>\n",
       "      <td>0</td>\n",
       "      <td>0</td>\n",
       "      <td>0</td>\n",
       "      <td>0</td>\n",
       "      <td>1</td>\n",
       "      <td>0</td>\n",
       "      <td>0</td>\n",
       "      <td>0</td>\n",
       "      <td>0</td>\n",
       "    </tr>\n",
       "    <tr>\n",
       "      <th>8122</th>\n",
       "      <td>1</td>\n",
       "      <td>0</td>\n",
       "      <td>0</td>\n",
       "      <td>0</td>\n",
       "      <td>1</td>\n",
       "      <td>0</td>\n",
       "      <td>0</td>\n",
       "      <td>0</td>\n",
       "      <td>0</td>\n",
       "      <td>0</td>\n",
       "      <td>...</td>\n",
       "      <td>0</td>\n",
       "      <td>1</td>\n",
       "      <td>0</td>\n",
       "      <td>0</td>\n",
       "      <td>0</td>\n",
       "      <td>1</td>\n",
       "      <td>0</td>\n",
       "      <td>0</td>\n",
       "      <td>0</td>\n",
       "      <td>0</td>\n",
       "    </tr>\n",
       "    <tr>\n",
       "      <th>8123</th>\n",
       "      <td>0</td>\n",
       "      <td>0</td>\n",
       "      <td>0</td>\n",
       "      <td>0</td>\n",
       "      <td>0</td>\n",
       "      <td>0</td>\n",
       "      <td>1</td>\n",
       "      <td>0</td>\n",
       "      <td>0</td>\n",
       "      <td>1</td>\n",
       "      <td>...</td>\n",
       "      <td>0</td>\n",
       "      <td>0</td>\n",
       "      <td>0</td>\n",
       "      <td>0</td>\n",
       "      <td>0</td>\n",
       "      <td>1</td>\n",
       "      <td>0</td>\n",
       "      <td>0</td>\n",
       "      <td>0</td>\n",
       "      <td>0</td>\n",
       "    </tr>\n",
       "  </tbody>\n",
       "</table>\n",
       "<p>8124 rows × 117 columns</p>\n",
       "</div>"
      ],
      "text/plain": [
       "      poisonous  cap-shape_b  cap-shape_c  cap-shape_f  cap-shape_k  \\\n",
       "0             1            0            0            0            0   \n",
       "1             0            0            0            0            0   \n",
       "2             0            1            0            0            0   \n",
       "3             1            0            0            0            0   \n",
       "4             0            0            0            0            0   \n",
       "...         ...          ...          ...          ...          ...   \n",
       "8119          0            0            0            0            1   \n",
       "8120          0            0            0            0            0   \n",
       "8121          0            0            0            1            0   \n",
       "8122          1            0            0            0            1   \n",
       "8123          0            0            0            0            0   \n",
       "\n",
       "      cap-shape_s  cap-shape_x  cap-surface_f  cap-surface_g  cap-surface_s  \\\n",
       "0               0            1              0              0              1   \n",
       "1               0            1              0              0              1   \n",
       "2               0            0              0              0              1   \n",
       "3               0            1              0              0              0   \n",
       "4               0            1              0              0              1   \n",
       "...           ...          ...            ...            ...            ...   \n",
       "8119            0            0              0              0              1   \n",
       "8120            0            1              0              0              1   \n",
       "8121            0            0              0              0              1   \n",
       "8122            0            0              0              0              0   \n",
       "8123            0            1              0              0              1   \n",
       "\n",
       "      ...  population_s  population_v  population_y  habitat_d  habitat_g  \\\n",
       "0     ...             1             0             0          0          0   \n",
       "1     ...             0             0             0          0          1   \n",
       "2     ...             0             0             0          0          0   \n",
       "3     ...             1             0             0          0          0   \n",
       "4     ...             0             0             0          0          1   \n",
       "...   ...           ...           ...           ...        ...        ...   \n",
       "8119  ...             0             0             0          0          0   \n",
       "8120  ...             0             1             0          0          0   \n",
       "8121  ...             0             0             0          0          0   \n",
       "8122  ...             0             1             0          0          0   \n",
       "8123  ...             0             0             0          0          0   \n",
       "\n",
       "      habitat_l  habitat_m  habitat_p  habitat_u  habitat_w  \n",
       "0             0          0          0          1          0  \n",
       "1             0          0          0          0          0  \n",
       "2             0          1          0          0          0  \n",
       "3             0          0          0          1          0  \n",
       "4             0          0          0          0          0  \n",
       "...         ...        ...        ...        ...        ...  \n",
       "8119          1          0          0          0          0  \n",
       "8120          1          0          0          0          0  \n",
       "8121          1          0          0          0          0  \n",
       "8122          1          0          0          0          0  \n",
       "8123          1          0          0          0          0  \n",
       "\n",
       "[8124 rows x 117 columns]"
      ]
     },
     "execution_count": 51,
     "metadata": {},
     "output_type": "execute_result"
    }
   ],
   "source": [
    "df_part"
   ]
  },
  {
   "cell_type": "code",
   "execution_count": 78,
   "id": "1cb50fba-a030-4a22-a4cc-5cbc90470a1c",
   "metadata": {},
   "outputs": [],
   "source": [
    "import math\n",
    "import copy\n",
    "class Sigmoid:\n",
    "    def __call__(self, x):\n",
    "        return 1 / (1 + np.exp(-x))\n",
    "\n",
    "    def gradient(self, x):\n",
    "        return self.__call__(x) * (1 - self.__call__(x))\n",
    "\n",
    "class ReLU:\n",
    "    def __call__(self, x):\n",
    "        return np.where(x >= 0, x, 0)\n",
    "\n",
    "    def gradient(self, x):\n",
    "        return np.where(x >= 0, 1, 0)\n"
   ]
  },
  {
   "cell_type": "code",
   "execution_count": 87,
   "id": "cb6cd7c5-abe5-431b-9e45-f3af90b238a6",
   "metadata": {},
   "outputs": [],
   "source": [
    "class Linear:\n",
    "    def __init__(self, n_units, input_shape=None):\n",
    "        self.layer_input = None\n",
    "        self.input_shape = input_shape\n",
    "        self.n_units = n_units\n",
    "        self.trainable = True\n",
    "        self.W = None\n",
    "        self.w0 = None\n",
    "\n",
    "    def set_input_shape(self, shape):\n",
    "        self.input_shape = shape\n",
    "\n",
    "    def initialize(self, optimizer):\n",
    "        limit = 1 / math.sqrt(self.input_shape[0])\n",
    "        self.W  = np.random.uniform(-limit, limit, (self.input_shape[0], self.n_units))\n",
    "        self.w0 = np.zeros((1, self.n_units))\n",
    "        self.W_opt  = copy.copy(optimizer)\n",
    "        self.w0_opt = copy.copy(optimizer)\n",
    "\n",
    "    def parameters(self):\n",
    "        return np.prod(self.W.shape) + np.prod(self.w0.shape)\n",
    "\n",
    "    def forward_pass(self, X, training=True):\n",
    "        self.layer_input = X\n",
    "        return X.dot(self.W) + self.w0\n",
    "\n",
    "    def backward_pass(self, accum_grad):\n",
    "        W = self.W\n",
    "\n",
    "        if self.trainable:\n",
    "            grad_w = self.layer_input.T.dot(accum_grad)\n",
    "            grad_w0 = np.sum(accum_grad, axis=0, keepdims=True)\n",
    "\n",
    "            self.W = self.W_opt.update(self.W, grad_w)\n",
    "            self.w0 = self.w0_opt.update(self.w0, grad_w0)\n",
    "\n",
    "        accum_grad = accum_grad.dot(W.T)\n",
    "        return accum_grad\n",
    "\n",
    "    def output_shape(self):\n",
    "        return (self.n_units, )\n",
    "\n",
    "activation_functions = {\n",
    "    'relu': ReLU,\n",
    "    'sigmoid': Sigmoid,\n",
    "}\n",
    "\n",
    "class Activation:\n",
    "    def __init__(self, name):\n",
    "        self.activation_name = name\n",
    "        self.activation_func = activation_functions[name]()\n",
    "        self.trainable = True\n",
    "    def set_input_shape(self, shape):\n",
    "        self.input_shape = shape\n",
    "    def layer_name(self):\n",
    "        return \"Activation (%s)\" % (self.activation_func.__class__.__name__)\n",
    "\n",
    "    def forward_pass(self, X, training=True):\n",
    "        self.layer_input = X\n",
    "        return self.activation_func(X)\n",
    "\n",
    "    def backward_pass(self, accum_grad):\n",
    "        return accum_grad * self.activation_func.gradient(self.layer_input)\n",
    "\n",
    "    def output_shape(self):\n",
    "        return self.input_shape\n"
   ]
  },
  {
   "cell_type": "code",
   "execution_count": 103,
   "id": "c1a306c6-9bf0-4bcc-9049-1c3cfa0f5ba3",
   "metadata": {},
   "outputs": [],
   "source": [
    "class CrossEntropy:\n",
    "    def __init__(self): pass\n",
    "\n",
    "    def loss(self, y, p):\n",
    "        p = np.clip(p, 1e-15, 1 - 1e-15)\n",
    "        return - y * np.log(p) - (1 - y) * np.log(1 - p)\n",
    "\n",
    "    def acc(self, y, p):\n",
    "        return np.sum((y>0.5) == (p>0.5))/len(y)\n",
    "\n",
    "    def gradient(self, y, p):\n",
    "        p = np.clip(p, 1e-15, 1 - 1e-15)\n",
    "        return - (y / p) + (1 - y) / (1 - p)"
   ]
  },
  {
   "cell_type": "code",
   "execution_count": 104,
   "id": "5a90fbae-b296-4e22-8e82-f8c12439e6c1",
   "metadata": {},
   "outputs": [],
   "source": [
    "class StochasticGradientDescent:\n",
    "    def __init__(self, learning_rate=0.01, momentum=0):\n",
    "        self.learning_rate = learning_rate \n",
    "        self.momentum = momentum\n",
    "        self.w_updt = None\n",
    "\n",
    "    def update(self, w, grad_wrt_w):\n",
    "        if self.w_updt is None:\n",
    "            self.w_updt = np.zeros(np.shape(w))\n",
    "        self.w_updt = self.momentum * self.w_updt + (1 - self.momentum) * grad_wrt_w\n",
    "        return w - self.learning_rate * self.w_updt\n",
    "\n",
    "class Adam:\n",
    "    def __init__(self, learning_rate=0.001, b1=0.9, b2=0.999):\n",
    "        self.learning_rate = learning_rate\n",
    "        self.eps = 1e-8\n",
    "        self.m = None\n",
    "        self.v = None\n",
    "        self.b1 = b1\n",
    "        self.b2 = b2\n",
    "\n",
    "    def update(self, w, grad_wrt_w):\n",
    "        if self.m is None:\n",
    "            self.m = np.zeros(np.shape(grad_wrt_w))\n",
    "            self.v = np.zeros(np.shape(grad_wrt_w))\n",
    "        \n",
    "        self.m = self.b1 * self.m + (1 - self.b1) * grad_wrt_w\n",
    "        self.v = self.b2 * self.v + (1 - self.b2) * np.power(grad_wrt_w, 2)\n",
    "\n",
    "        m_hat = self.m / (1 - self.b1)\n",
    "        v_hat = self.v / (1 - self.b2)\n",
    "\n",
    "        self.w_updt = self.learning_rate * m_hat / (np.sqrt(v_hat) + self.eps)\n",
    "\n",
    "        return w - self.w_updt"
   ]
  },
  {
   "cell_type": "code",
   "execution_count": 125,
   "id": "c904fbb1-ce9f-4d41-8676-2e75f4aa9292",
   "metadata": {},
   "outputs": [],
   "source": [
    "\n",
    "def batch_iterator(X, y=None, batch_size=64):\n",
    "    n_samples = X.shape[0]\n",
    "    for i in np.arange(0, n_samples, batch_size):\n",
    "        begin, end = i, min(i+batch_size, n_samples)\n",
    "        if y is not None:\n",
    "            yield X[begin:end], y[begin:end]\n",
    "        else:\n",
    "            yield X[begin:end]\n",
    "\n",
    "class NeuralNetwork:\n",
    "    def __init__(self, optimizer, loss, validation_data=None):\n",
    "        self.optimizer = optimizer\n",
    "        self.layers = []\n",
    "        self.errors = {\"training\": [], \"validation\": []}\n",
    "        self.acc = {\"training\": [], \"validation\": []}\n",
    "\n",
    "        self.loss_function = loss()\n",
    "\n",
    "        self.val_set = None\n",
    "        if validation_data:\n",
    "            X, y = validation_data\n",
    "            self.val_set = {\"X\": X, \"y\": y}\n",
    "\n",
    "    def set_trainable(self, trainable):\n",
    "        for layer in self.layers:\n",
    "            layer.trainable = trainable\n",
    "\n",
    "    def add(self, layer):\n",
    "        if self.layers:\n",
    "            layer.set_input_shape(shape=self.layers[-1].output_shape())\n",
    "\n",
    "        if hasattr(layer, 'initialize'):\n",
    "            layer.initialize(optimizer=self.optimizer)\n",
    "\n",
    "        self.layers.append(layer)\n",
    "\n",
    "    def test_on_batch(self, X, y):\n",
    "        y_pred = self._forward_pass(X, training=False)\n",
    "        loss = np.mean(self.loss_function.loss(y, y_pred))\n",
    "        acc = self.loss_function.acc(y, y_pred)\n",
    "\n",
    "        return loss, acc\n",
    "\n",
    "    def train_on_batch(self, X, y):\n",
    "        y_pred = self._forward_pass(X)\n",
    "        loss = np.mean(self.loss_function.loss(y, y_pred))\n",
    "        acc = self.loss_function.acc(y, y_pred)\n",
    "        loss_grad = self.loss_function.gradient(y, y_pred)\n",
    "        self._backward_pass(loss_grad=loss_grad)\n",
    "\n",
    "        return loss, acc\n",
    "\n",
    "    def fit(self, X, y, n_epochs, batch_size):\n",
    "        for _ in range(n_epochs):\n",
    "            \n",
    "            batch_error = []\n",
    "            batch_acc = []\n",
    "            for X_batch, y_batch in batch_iterator(X, y, batch_size=batch_size):\n",
    "                loss, acc = self.train_on_batch(X_batch, y_batch)\n",
    "                batch_error.append(loss)\n",
    "                batch_acc.append(acc)\n",
    "\n",
    "            self.errors[\"training\"].append(np.mean(batch_error))\n",
    "            self.acc[\"training\"].append(np.mean(batch_acc))\n",
    "\n",
    "            if self.val_set is not None:\n",
    "                val_loss, val_acc = self.test_on_batch(self.val_set[\"X\"], self.val_set[\"y\"])\n",
    "                self.errors[\"validation\"].append(val_loss)\n",
    "                self.acc[\"validation\"].append(val_acc)\n",
    "\n",
    "        return self.errors, self.acc\n",
    "\n",
    "    def _forward_pass(self, X, training=True):\n",
    "        layer_output = X\n",
    "        for layer in self.layers:\n",
    "            layer_output = layer.forward_pass(layer_output, training)\n",
    "\n",
    "        return layer_output\n",
    "\n",
    "    def _backward_pass(self, loss_grad):\n",
    "        for layer in reversed(self.layers):\n",
    "            loss_grad = layer.backward_pass(loss_grad)\n",
    "\n",
    "    def predict(self, X):\n",
    "        return self._forward_pass(X, training=False)"
   ]
  },
  {
   "cell_type": "code",
   "execution_count": 126,
   "id": "7b7d3b55-ee9b-4da5-b121-bbc56cdea9af",
   "metadata": {},
   "outputs": [
    {
     "data": {
      "text/plain": [
       "(8124, 117)"
      ]
     },
     "execution_count": 126,
     "metadata": {},
     "output_type": "execute_result"
    }
   ],
   "source": [
    "df_part.shape"
   ]
  },
  {
   "cell_type": "code",
   "execution_count": 130,
   "id": "b849d49e-1cd0-4dc8-8ef0-12c3943247ba",
   "metadata": {},
   "outputs": [],
   "source": [
    "from sklearn.model_selection import train_test_split\n",
    "X, Y = df_part.drop([target],axis=1),df_part[[target]].to_numpy()\n",
    "x, xt, y, yt = train_test_split(X,Y,test_size=0.2,random_state=42, stratify=Y)"
   ]
  },
  {
   "cell_type": "code",
   "execution_count": 131,
   "id": "21775ba7-7ad6-41e2-85cc-3ebe10e79452",
   "metadata": {},
   "outputs": [],
   "source": [
    "net = NeuralNetwork(optimizer=Adam(), loss=CrossEntropy,validation_data=(xt,yt))\n",
    "net.add(Linear(128, input_shape=(116,)))\n",
    "net.add(Activation('relu'))\n",
    "net.add(Linear(32))\n",
    "net.add(Activation('relu'))\n",
    "net.add(Linear(1))\n"
   ]
  },
  {
   "cell_type": "code",
   "execution_count": 132,
   "id": "80d2aa20-5f26-45bc-9ebd-c90120807dfd",
   "metadata": {},
   "outputs": [],
   "source": [
    "error, acc = net.fit(x,y,100,4000)"
   ]
  },
  {
   "cell_type": "code",
   "execution_count": 133,
   "id": "a25a9b71-9341-4b76-87c9-b7e533f4af95",
   "metadata": {},
   "outputs": [
    {
     "data": {
      "text/plain": [
       "dict_keys(['training', 'validation'])"
      ]
     },
     "execution_count": 133,
     "metadata": {},
     "output_type": "execute_result"
    }
   ],
   "source": [
    "acc.keys()"
   ]
  },
  {
   "cell_type": "code",
   "execution_count": 134,
   "id": "58645094-436e-434e-a246-c25c6f1bf2da",
   "metadata": {},
   "outputs": [
    {
     "data": {
      "image/png": "[encoded data removed]",
      "text/plain": [
       "<Figure size 640x480 with 1 Axes>"
      ]
     },
     "metadata": {},
     "output_type": "display_data"
    }
   ],
   "source": [
    "plt.plot(list(range(len(acc['training']))), acc['training'], label='training')\n",
    "plt.plot(list(range(len(acc['validation']))), acc['validation'], label='validation')\n",
    "plt.title('acc')\n",
    "plt.xlabel(\"epoch\")\n",
    "plt.legend()\n",
    "plt.show()"
   ]
  },
  {
   "cell_type": "code",
   "execution_count": 135,
   "id": "beb3137e-489e-48a7-a23a-b5af78f1c997",
   "metadata": {},
   "outputs": [
    {
     "data": {
      "image/png": "[encoded data removed]",
      "text/plain": [
       "<Figure size 640x480 with 1 Axes>"
      ]
     },
     "metadata": {},
     "output_type": "display_data"
    }
   ],
   "source": [
    "plt.plot(list(range(len(error['training']))), error['training'], label='training')\n",
    "plt.plot(list(range(len(error['validation']))), error['validation'], label='validation')\n",
    "plt.title('loss')\n",
    "plt.xlabel(\"epoch\")\n",
    "plt.legend()\n",
    "plt.show()"
   ]
  },
  {
   "cell_type": "code",
   "execution_count": 136,
   "id": "f405f765-f630-408d-8c51-779018fbd3e6",
   "metadata": {},
   "outputs": [],
   "source": [
    "net.add(Activation('sigmoid'))"
   ]
  },
  {
   "cell_type": "code",
   "execution_count": 139,
   "id": "88abab32-7e45-4048-bada-986026df9b1f",
   "metadata": {},
   "outputs": [
    {
     "data": {
      "text/plain": [
       "array([[ True],\n",
       "       [False],\n",
       "       [False],\n",
       "       [ True],\n",
       "       [ True],\n",
       "       [False],\n",
       "       [False],\n",
       "       [ True],\n",
       "       [False],\n",
       "       [False]])"
      ]
     },
     "execution_count": 139,
     "metadata": {},
     "output_type": "execute_result"
    }
   ],
   "source": [
    "net.predict(x[:10])>0.5"
   ]
  },
  {
   "cell_type": "code",
   "execution_count": 140,
   "id": "c3f5463b-2f7e-40f9-9541-78022cb62122",
   "metadata": {},
   "outputs": [
    {
     "data": {
      "text/plain": [
       "array([[1],\n",
       "       [0],\n",
       "       [0],\n",
       "       [1],\n",
       "       [1],\n",
       "       [0],\n",
       "       [0],\n",
       "       [1],\n",
       "       [0],\n",
       "       [0]])"
      ]
     },
     "execution_count": 140,
     "metadata": {},
     "output_type": "execute_result"
    }
   ],
   "source": [
    "y[:10]"
   ]
  },
  {
   "cell_type": "code",
   "execution_count": 141,
   "id": "9a016a2c-c4f3-4dd3-8322-1fed12ce0da2",
   "metadata": {},
   "outputs": [
    {
     "data": {
      "text/plain": [
       "'accuracy 0.9963076923076923'"
      ]
     },
     "execution_count": 141,
     "metadata": {},
     "output_type": "execute_result"
    }
   ],
   "source": [
    "f\"accuracy {np.sum((yt>0.5) == (net.predict(xt)>0.5))/len(yt)}\""
   ]
  }
 ],
 "metadata": {
  "kernelspec": {
   "display_name": "Python 3 (ipykernel)",
   "language": "python",
   "name": "python3"
  },
  "language_info": {
   "codemirror_mode": {
    "name": "ipython",
    "version": 3
   },
   "file_extension": ".py",
   "mimetype": "text/x-python",
   "name": "python",
   "nbconvert_exporter": "python",
   "pygments_lexer": "ipython3",
   "version": "3.11.6"
  }
 },
 "nbformat": 4,
 "nbformat_minor": 5
}
